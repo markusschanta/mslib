{
 "cells": [
  {
   "cell_type": "markdown",
   "id": "6392b0b3-bb41-4880-bcd8-8f3e4c994097",
   "metadata": {},
   "source": [
    "# te\n",
    "\n",
    "> Data from te"
   ]
  },
  {
   "cell_type": "code",
   "execution_count": null,
   "id": "e7d4479d-ecf1-480d-a9f7-e8225986d7ce",
   "metadata": {},
   "outputs": [],
   "source": [
    "#| default_exp data.te"
   ]
  },
  {
   "cell_type": "code",
   "execution_count": null,
   "id": "f9a2bad2-3dfd-4781-b89b-618bf9e2a3b1",
   "metadata": {},
   "outputs": [],
   "source": [
    "#| exporti\n",
    "import pandas as pd\n",
    "import requests\n",
    "\n",
    "USER_AGENT = {'User-agent': 'Mozilla/5.0'}\n",
    "\n",
    "TICKER_MAP = {\n",
    "    'spx:ind': '/spx:ind'\n",
    "}\n",
    "\n",
    "def _get_auth_token(auth_url):\n",
    "    full_auth_url = 'https://tradingeconomics.com' + auth_url\n",
    "    print(full_auth_url)\n",
    "\n",
    "    r = requests.get(full_auth_url, headers=USER_AGENT)\n",
    "    auth_token = r.text.split(\"\"\"    TESecurify = \"\"\")[1][:100].split('\\'')[1]\n",
    "    return auth_token\n",
    "\n",
    "def _get_data(s, auth_url, auth_token, span=None, d1=None, d2=None, interval=None):\n",
    "    data_url = 'https://markets.tradingeconomics.com/chart?'\n",
    "    data_url += f's={s}&'\n",
    "    if span != None:\n",
    "        data_url += f'span={span}&'\n",
    "    elif (d1 != None) & (d2 != None):\n",
    "        data_url += f'd1={d1}&'\n",
    "        data_url += f'd2={d2}&'\n",
    "    else:\n",
    "        data_url += f'span=max&'\n",
    "    if interval != None:\n",
    "        data_url += f'interval={interval}&'\n",
    "    data_url += f'securify=new&'\n",
    "    data_url += f'url={auth_url}&'\n",
    "    data_url += f'AUTH={auth_token}&'\n",
    "    data_url += f'ohlc=0'\n",
    "    \n",
    "    # print(data_url)\n",
    "\n",
    "    r = requests.get(data_url, headers=USER_AGENT)\n",
    "    df = pd.DataFrame.from_dict(r.json()['series'][0]['data'])\n",
    "    \n",
    "    return df"
   ]
  },
  {
   "cell_type": "code",
   "execution_count": null,
   "id": "a1e05fec-ff06-4c39-8717-e81fba75da9d",
   "metadata": {},
   "outputs": [],
   "source": [
    "#| export\n",
    "def get_data(ticker):\n",
    "    auth_url = TICKER_MAP[ticker]\n",
    "    auth_token =_get_auth_token(auth_url)\n",
    "    data = _get_data(ticker, auth_url, auth_token)\n",
    "    return data"
   ]
  },
  {
   "cell_type": "code",
   "execution_count": null,
   "id": "e74167b3-1bb2-4cdb-a5d0-c6fefcac02a4",
   "metadata": {},
   "outputs": [
    {
     "name": "stdout",
     "output_type": "stream",
     "text": [
      "https://tradingeconomics.com/spx:ind\n"
     ]
    },
    {
     "data": {
      "text/html": [
       "<div>\n",
       "<style scoped>\n",
       "    .dataframe tbody tr th:only-of-type {\n",
       "        vertical-align: middle;\n",
       "    }\n",
       "\n",
       "    .dataframe tbody tr th {\n",
       "        vertical-align: top;\n",
       "    }\n",
       "\n",
       "    .dataframe thead th {\n",
       "        text-align: right;\n",
       "    }\n",
       "</style>\n",
       "<table border=\"1\" class=\"dataframe\">\n",
       "  <thead>\n",
       "    <tr style=\"text-align: right;\">\n",
       "      <th></th>\n",
       "      <th>date</th>\n",
       "      <th>x</th>\n",
       "      <th>y</th>\n",
       "      <th>percentChange</th>\n",
       "      <th>change</th>\n",
       "    </tr>\n",
       "  </thead>\n",
       "  <tbody>\n",
       "    <tr>\n",
       "      <th>0</th>\n",
       "      <td>1928-01-03T00:00:00</td>\n",
       "      <td>-1325289600000</td>\n",
       "      <td>17.57000</td>\n",
       "      <td>NaN</td>\n",
       "      <td>NaN</td>\n",
       "    </tr>\n",
       "    <tr>\n",
       "      <th>1</th>\n",
       "      <td>1928-02-01T00:00:00</td>\n",
       "      <td>-1322784000000</td>\n",
       "      <td>17.26000</td>\n",
       "      <td>-1.764371</td>\n",
       "      <td>-0.31000</td>\n",
       "    </tr>\n",
       "    <tr>\n",
       "      <th>2</th>\n",
       "      <td>1928-03-01T00:00:00</td>\n",
       "      <td>-1320278400000</td>\n",
       "      <td>19.13000</td>\n",
       "      <td>10.834299</td>\n",
       "      <td>1.87000</td>\n",
       "    </tr>\n",
       "    <tr>\n",
       "      <th>3</th>\n",
       "      <td>1928-04-02T00:00:00</td>\n",
       "      <td>-1317513600000</td>\n",
       "      <td>19.75000</td>\n",
       "      <td>3.240983</td>\n",
       "      <td>0.62000</td>\n",
       "    </tr>\n",
       "    <tr>\n",
       "      <th>4</th>\n",
       "      <td>1928-05-01T00:00:00</td>\n",
       "      <td>-1315008000000</td>\n",
       "      <td>20.00000</td>\n",
       "      <td>1.265823</td>\n",
       "      <td>0.25000</td>\n",
       "    </tr>\n",
       "    <tr>\n",
       "      <th>...</th>\n",
       "      <td>...</td>\n",
       "      <td>...</td>\n",
       "      <td>...</td>\n",
       "      <td>...</td>\n",
       "      <td>...</td>\n",
       "    </tr>\n",
       "    <tr>\n",
       "      <th>1135</th>\n",
       "      <td>2022-08-01T00:00:00</td>\n",
       "      <td>1659312000000</td>\n",
       "      <td>3955.00000</td>\n",
       "      <td>-4.244012</td>\n",
       "      <td>-175.29000</td>\n",
       "    </tr>\n",
       "    <tr>\n",
       "      <th>1136</th>\n",
       "      <td>2022-09-01T00:00:00</td>\n",
       "      <td>1661990400000</td>\n",
       "      <td>3585.62000</td>\n",
       "      <td>-9.339570</td>\n",
       "      <td>-369.38000</td>\n",
       "    </tr>\n",
       "    <tr>\n",
       "      <th>1137</th>\n",
       "      <td>2022-10-03T00:00:00</td>\n",
       "      <td>1664755200000</td>\n",
       "      <td>3871.98000</td>\n",
       "      <td>7.986345</td>\n",
       "      <td>286.36000</td>\n",
       "    </tr>\n",
       "    <tr>\n",
       "      <th>1138</th>\n",
       "      <td>2022-11-01T00:00:00</td>\n",
       "      <td>1667260800000</td>\n",
       "      <td>4080.11000</td>\n",
       "      <td>5.375286</td>\n",
       "      <td>208.13000</td>\n",
       "    </tr>\n",
       "    <tr>\n",
       "      <th>1139</th>\n",
       "      <td>2022-12-01T00:00:00</td>\n",
       "      <td>1669852800000</td>\n",
       "      <td>4038.55005</td>\n",
       "      <td>-1.018599</td>\n",
       "      <td>-41.55995</td>\n",
       "    </tr>\n",
       "  </tbody>\n",
       "</table>\n",
       "<p>1140 rows × 5 columns</p>\n",
       "</div>"
      ],
      "text/plain": [
       "                     date              x           y  percentChange     change\n",
       "0     1928-01-03T00:00:00 -1325289600000    17.57000            NaN        NaN\n",
       "1     1928-02-01T00:00:00 -1322784000000    17.26000      -1.764371   -0.31000\n",
       "2     1928-03-01T00:00:00 -1320278400000    19.13000      10.834299    1.87000\n",
       "3     1928-04-02T00:00:00 -1317513600000    19.75000       3.240983    0.62000\n",
       "4     1928-05-01T00:00:00 -1315008000000    20.00000       1.265823    0.25000\n",
       "...                   ...            ...         ...            ...        ...\n",
       "1135  2022-08-01T00:00:00  1659312000000  3955.00000      -4.244012 -175.29000\n",
       "1136  2022-09-01T00:00:00  1661990400000  3585.62000      -9.339570 -369.38000\n",
       "1137  2022-10-03T00:00:00  1664755200000  3871.98000       7.986345  286.36000\n",
       "1138  2022-11-01T00:00:00  1667260800000  4080.11000       5.375286  208.13000\n",
       "1139  2022-12-01T00:00:00  1669852800000  4038.55005      -1.018599  -41.55995\n",
       "\n",
       "[1140 rows x 5 columns]"
      ]
     },
     "execution_count": null,
     "metadata": {},
     "output_type": "execute_result"
    }
   ],
   "source": [
    "get_data('spx:ind')"
   ]
  },
  {
   "cell_type": "code",
   "execution_count": null,
   "id": "9d97d332-06f5-43d4-a9b2-706d32120629",
   "metadata": {},
   "outputs": [
    {
     "name": "stdout",
     "output_type": "stream",
     "text": [
      "https://tradingeconomics.com/spx:ind\n"
     ]
    },
    {
     "data": {
      "text/plain": [
       "<AxesSubplot: xlabel='date'>"
      ]
     },
     "execution_count": null,
     "metadata": {},
     "output_type": "execute_result"
    },
    {
     "data": {
      "image/png": "[encoded data removed]",
      "text/plain": [
       "<Figure size 640x480 with 1 Axes>"
      ]
     },
     "metadata": {},
     "output_type": "display_data"
    }
   ],
   "source": [
    "get_data('spx:ind').set_index('date')['y'].plot()"
   ]
  },
  {
   "cell_type": "code",
   "execution_count": null,
   "id": "820fe51c-33aa-448c-a1f0-3965564822d6",
   "metadata": {},
   "outputs": [],
   "source": [
    "# s='foo:ind'\n",
    "# auth_url='/spx:ind'\n",
    "\n",
    "# auth_token =_get_auth_token(auth_url)\n",
    "# df = _get_data(s, auth_url, auth_token)\n",
    "\n",
    "# df.date"
   ]
  },
  {
   "cell_type": "code",
   "execution_count": null,
   "id": "0460401c-8e80-4914-aefc-653d7c0ea832",
   "metadata": {},
   "outputs": [],
   "source": [
    "#| hide\n",
    "import nbdev; nbdev.nbdev_export()"
   ]
  }
 ],
 "metadata": {
  "kernelspec": {
   "display_name": "Python 3 (ipykernel)",
   "language": "python",
   "name": "python3"
  }
 },
 "nbformat": 4,
 "nbformat_minor": 5
}
