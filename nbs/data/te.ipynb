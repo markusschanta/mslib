{
 "cells": [
  {
   "cell_type": "markdown",
   "id": "6392b0b3-bb41-4880-bcd8-8f3e4c994097",
   "metadata": {},
   "source": [
    "# te\n",
    "\n",
    "> Data from te"
   ]
  },
  {
   "cell_type": "code",
   "execution_count": null,
   "id": "e7d4479d-ecf1-480d-a9f7-e8225986d7ce",
   "metadata": {},
   "outputs": [],
   "source": [
    "#| default_exp data.te"
   ]
  },
  {
   "cell_type": "code",
   "execution_count": null,
   "id": "f9a2bad2-3dfd-4781-b89b-618bf9e2a3b1",
   "metadata": {},
   "outputs": [],
   "source": [
    "#| exporti\n",
    "import pandas as pd\n",
    "import requests\n",
    "\n",
    "USER_AGENT = {'User-agent': 'Mozilla/5.0'}\n",
    "\n",
    "TICKER_MAP = {\n",
    "    'spx:ind': '/spx:ind'\n",
    "}\n",
    "\n",
    "def _get_auth_token(auth_url):\n",
    "    full_auth_url = 'https://tradingeconomics.com' + auth_url\n",
    "    # print(full_auth_url)\n",
    "\n",
    "    r = requests.get(full_auth_url, headers=USER_AGENT)\n",
    "    auth_token = r.text.split(\"\"\"    TESecurify = \"\"\")[1][:100].split('\\'')[1]\n",
    "    return auth_token\n",
    "\n",
    "def _get_data(s, auth_url, auth_token, span=None, d1=None, d2=None, interval=None):\n",
    "    data_url = 'https://markets.tradingeconomics.com/chart?'\n",
    "    data_url += f's={s}&'\n",
    "    if span != None:\n",
    "        data_url += f'span={span}&'\n",
    "    elif (d1 != None) & (d2 != None):\n",
    "        data_url += f'd1={d1}&'\n",
    "        data_url += f'd2={d2}&'\n",
    "    else:\n",
    "        data_url += f'span=max&'\n",
    "    if interval != None:\n",
    "        data_url += f'interval={interval}&'\n",
    "    data_url += f'securify=new&'\n",
    "    data_url += f'url={auth_url}&'\n",
    "    data_url += f'AUTH={auth_token}&'\n",
    "    data_url += f'ohlc=0'\n",
    "\n",
    "    # print(data_url)\n",
    "\n",
    "    r = requests.get(data_url, headers=USER_AGENT)\n",
    "    data = pd.DataFrame.from_dict(r.json()['series'][0]['data'])\n",
    "\n",
    "    data.date = pd.to_datetime(data.date)\n",
    "    data = data.set_index('date').loc[:, ['y']].rename(columns={'y': 'close'})\n",
    "    \n",
    "    return data"
   ]
  },
  {
   "cell_type": "code",
   "execution_count": null,
   "id": "a1e05fec-ff06-4c39-8717-e81fba75da9d",
   "metadata": {},
   "outputs": [],
   "source": [
    "#| export\n",
    "def get_data(ticker):\n",
    "    auth_url = TICKER_MAP[ticker]\n",
    "    auth_token =_get_auth_token(auth_url)\n",
    "    data = _get_data(ticker, auth_url, auth_token)\n",
    "    return data"
   ]
  },
  {
   "cell_type": "code",
   "execution_count": null,
   "id": "e74167b3-1bb2-4cdb-a5d0-c6fefcac02a4",
   "metadata": {},
   "outputs": [
    {
     "data": {
      "text/html": [
       "<div>\n",
       "<style scoped>\n",
       "    .dataframe tbody tr th:only-of-type {\n",
       "        vertical-align: middle;\n",
       "    }\n",
       "\n",
       "    .dataframe tbody tr th {\n",
       "        vertical-align: top;\n",
       "    }\n",
       "\n",
       "    .dataframe thead th {\n",
       "        text-align: right;\n",
       "    }\n",
       "</style>\n",
       "<table border=\"1\" class=\"dataframe\">\n",
       "  <thead>\n",
       "    <tr style=\"text-align: right;\">\n",
       "      <th></th>\n",
       "      <th>close</th>\n",
       "    </tr>\n",
       "    <tr>\n",
       "      <th>date</th>\n",
       "      <th></th>\n",
       "    </tr>\n",
       "  </thead>\n",
       "  <tbody>\n",
       "    <tr>\n",
       "      <th>1928-01-03</th>\n",
       "      <td>17.57000</td>\n",
       "    </tr>\n",
       "    <tr>\n",
       "      <th>1928-02-01</th>\n",
       "      <td>17.26000</td>\n",
       "    </tr>\n",
       "    <tr>\n",
       "      <th>1928-03-01</th>\n",
       "      <td>19.13000</td>\n",
       "    </tr>\n",
       "    <tr>\n",
       "      <th>1928-04-02</th>\n",
       "      <td>19.75000</td>\n",
       "    </tr>\n",
       "    <tr>\n",
       "      <th>1928-05-01</th>\n",
       "      <td>20.00000</td>\n",
       "    </tr>\n",
       "    <tr>\n",
       "      <th>...</th>\n",
       "      <td>...</td>\n",
       "    </tr>\n",
       "    <tr>\n",
       "      <th>2022-08-01</th>\n",
       "      <td>3955.00000</td>\n",
       "    </tr>\n",
       "    <tr>\n",
       "      <th>2022-09-01</th>\n",
       "      <td>3585.62000</td>\n",
       "    </tr>\n",
       "    <tr>\n",
       "      <th>2022-10-03</th>\n",
       "      <td>3871.98000</td>\n",
       "    </tr>\n",
       "    <tr>\n",
       "      <th>2022-11-01</th>\n",
       "      <td>4080.11000</td>\n",
       "    </tr>\n",
       "    <tr>\n",
       "      <th>2022-12-01</th>\n",
       "      <td>4047.02002</td>\n",
       "    </tr>\n",
       "  </tbody>\n",
       "</table>\n",
       "<p>1140 rows × 1 columns</p>\n",
       "</div>"
      ],
      "text/plain": [
       "                 close\n",
       "date                  \n",
       "1928-01-03    17.57000\n",
       "1928-02-01    17.26000\n",
       "1928-03-01    19.13000\n",
       "1928-04-02    19.75000\n",
       "1928-05-01    20.00000\n",
       "...                ...\n",
       "2022-08-01  3955.00000\n",
       "2022-09-01  3585.62000\n",
       "2022-10-03  3871.98000\n",
       "2022-11-01  4080.11000\n",
       "2022-12-01  4047.02002\n",
       "\n",
       "[1140 rows x 1 columns]"
      ]
     },
     "execution_count": null,
     "metadata": {},
     "output_type": "execute_result"
    }
   ],
   "source": [
    "get_data('spx:ind')"
   ]
  },
  {
   "cell_type": "code",
   "execution_count": null,
   "id": "9d97d332-06f5-43d4-a9b2-706d32120629",
   "metadata": {},
   "outputs": [
    {
     "data": {
      "text/plain": [
       "<AxesSubplot: xlabel='date'>"
      ]
     },
     "execution_count": null,
     "metadata": {},
     "output_type": "execute_result"
    },
    {
     "data": {
      "image/png": "[encoded data removed]",
      "text/plain": [
       "<Figure size 640x480 with 1 Axes>"
      ]
     },
     "metadata": {},
     "output_type": "display_data"
    }
   ],
   "source": [
    "get_data('spx:ind').plot()"
   ]
  },
  {
   "cell_type": "code",
   "execution_count": null,
   "id": "820fe51c-33aa-448c-a1f0-3965564822d6",
   "metadata": {},
   "outputs": [],
   "source": [
    "# s='foo:ind'\n",
    "# auth_url='/spx:ind'\n",
    "\n",
    "# auth_token =_get_auth_token(auth_url)\n",
    "# df = _get_data(s, auth_url, auth_token)\n",
    "\n",
    "# df.date"
   ]
  },
  {
   "cell_type": "code",
   "execution_count": null,
   "id": "0460401c-8e80-4914-aefc-653d7c0ea832",
   "metadata": {},
   "outputs": [],
   "source": [
    "#| hide\n",
    "import nbdev; nbdev.nbdev_export()"
   ]
  }
 ],
 "metadata": {
  "kernelspec": {
   "display_name": "Python 3 (ipykernel)",
   "language": "python",
   "name": "python3"
  }
 },
 "nbformat": 4,
 "nbformat_minor": 5
}
